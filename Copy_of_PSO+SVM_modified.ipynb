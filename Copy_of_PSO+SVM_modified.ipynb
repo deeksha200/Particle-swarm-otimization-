{
  "nbformat": 4,
  "nbformat_minor": 0,
  "metadata": {
    "colab": {
      "provenance": [],
      "authorship_tag": "ABX9TyM7+Skp728ZFcfhuSPfDiYJ",
      "include_colab_link": true
    },
    "kernelspec": {
      "name": "python3",
      "display_name": "Python 3"
    },
    "language_info": {
      "name": "python"
    }
  },
  "cells": [
    {
      "cell_type": "markdown",
      "metadata": {
        "id": "view-in-github",
        "colab_type": "text"
      },
      "source": [
        "<a href=\"https://colab.research.google.com/github/deeksha200/Particle-swarm-otimization-/blob/main/Copy_of_PSO%2BSVM_modified.ipynb\" target=\"_parent\"><img src=\"https://colab.research.google.com/assets/colab-badge.svg\" alt=\"Open In Colab\"/></a>"
      ]
    },
    {
      "cell_type": "code",
      "execution_count": null,
      "metadata": {
        "id": "v6y4ukAQO6ex"
      },
      "outputs": [],
      "source": [
        "import itertools\n",
        "import numpy as np\n",
        "import pandas as pd\n",
        "import random\n",
        "import matplotlib.pyplot as plt\n",
        "import seaborn as sns\n",
        "import plotly.graph_objects as go"
      ]
    },
    {
      "cell_type": "code",
      "source": [
        "data=pd.read_excel(\"/content/data set svm+pso.xlsx\")"
      ],
      "metadata": {
        "id": "iTegUNLxQgn_"
      },
      "execution_count": null,
      "outputs": []
    },
    {
      "cell_type": "code",
      "source": [
        "data.head()"
      ],
      "metadata": {
        "colab": {
          "base_uri": "https://localhost:8080/",
          "height": 206
        },
        "id": "HEMM2BH0Qmhb",
        "outputId": "a679b432-052d-44ad-9633-48202b7f0bcb"
      },
      "execution_count": null,
      "outputs": [
        {
          "output_type": "execute_result",
          "data": {
            "text/plain": [
              "     Year  Traffic fatalities(people)  Highway mileage(10,000 km)  \\\n",
              "0     NaN                         NaN                         NaN   \n",
              "1     NaN                         NaN                         NaN   \n",
              "2  1981.0                     22499.0                       89.75   \n",
              "3  1982.0                     22164.0                       90.70   \n",
              "4  1983.0                     23944.0                       91.51   \n",
              "\n",
              "   Vehicle number(10000)  Population size(10000)  \n",
              "0                    NaN                     NaN  \n",
              "1                    NaN                     NaN  \n",
              "2                 234.73                100072.0  \n",
              "3                 259.77                101645.0  \n",
              "4                 283.88                103008.0  "
            ],
            "text/html": [
              "\n",
              "  <div id=\"df-bf37c8ec-2cb2-4608-a2c9-5810f721ce44\">\n",
              "    <div class=\"colab-df-container\">\n",
              "      <div>\n",
              "<style scoped>\n",
              "    .dataframe tbody tr th:only-of-type {\n",
              "        vertical-align: middle;\n",
              "    }\n",
              "\n",
              "    .dataframe tbody tr th {\n",
              "        vertical-align: top;\n",
              "    }\n",
              "\n",
              "    .dataframe thead th {\n",
              "        text-align: right;\n",
              "    }\n",
              "</style>\n",
              "<table border=\"1\" class=\"dataframe\">\n",
              "  <thead>\n",
              "    <tr style=\"text-align: right;\">\n",
              "      <th></th>\n",
              "      <th>Year</th>\n",
              "      <th>Traffic fatalities(people)</th>\n",
              "      <th>Highway mileage(10,000 km)</th>\n",
              "      <th>Vehicle number(10000)</th>\n",
              "      <th>Population size(10000)</th>\n",
              "    </tr>\n",
              "  </thead>\n",
              "  <tbody>\n",
              "    <tr>\n",
              "      <th>0</th>\n",
              "      <td>NaN</td>\n",
              "      <td>NaN</td>\n",
              "      <td>NaN</td>\n",
              "      <td>NaN</td>\n",
              "      <td>NaN</td>\n",
              "    </tr>\n",
              "    <tr>\n",
              "      <th>1</th>\n",
              "      <td>NaN</td>\n",
              "      <td>NaN</td>\n",
              "      <td>NaN</td>\n",
              "      <td>NaN</td>\n",
              "      <td>NaN</td>\n",
              "    </tr>\n",
              "    <tr>\n",
              "      <th>2</th>\n",
              "      <td>1981.0</td>\n",
              "      <td>22499.0</td>\n",
              "      <td>89.75</td>\n",
              "      <td>234.73</td>\n",
              "      <td>100072.0</td>\n",
              "    </tr>\n",
              "    <tr>\n",
              "      <th>3</th>\n",
              "      <td>1982.0</td>\n",
              "      <td>22164.0</td>\n",
              "      <td>90.70</td>\n",
              "      <td>259.77</td>\n",
              "      <td>101645.0</td>\n",
              "    </tr>\n",
              "    <tr>\n",
              "      <th>4</th>\n",
              "      <td>1983.0</td>\n",
              "      <td>23944.0</td>\n",
              "      <td>91.51</td>\n",
              "      <td>283.88</td>\n",
              "      <td>103008.0</td>\n",
              "    </tr>\n",
              "  </tbody>\n",
              "</table>\n",
              "</div>\n",
              "      <button class=\"colab-df-convert\" onclick=\"convertToInteractive('df-bf37c8ec-2cb2-4608-a2c9-5810f721ce44')\"\n",
              "              title=\"Convert this dataframe to an interactive table.\"\n",
              "              style=\"display:none;\">\n",
              "        \n",
              "  <svg xmlns=\"http://www.w3.org/2000/svg\" height=\"24px\"viewBox=\"0 0 24 24\"\n",
              "       width=\"24px\">\n",
              "    <path d=\"M0 0h24v24H0V0z\" fill=\"none\"/>\n",
              "    <path d=\"M18.56 5.44l.94 2.06.94-2.06 2.06-.94-2.06-.94-.94-2.06-.94 2.06-2.06.94zm-11 1L8.5 8.5l.94-2.06 2.06-.94-2.06-.94L8.5 2.5l-.94 2.06-2.06.94zm10 10l.94 2.06.94-2.06 2.06-.94-2.06-.94-.94-2.06-.94 2.06-2.06.94z\"/><path d=\"M17.41 7.96l-1.37-1.37c-.4-.4-.92-.59-1.43-.59-.52 0-1.04.2-1.43.59L10.3 9.45l-7.72 7.72c-.78.78-.78 2.05 0 2.83L4 21.41c.39.39.9.59 1.41.59.51 0 1.02-.2 1.41-.59l7.78-7.78 2.81-2.81c.8-.78.8-2.07 0-2.86zM5.41 20L4 18.59l7.72-7.72 1.47 1.35L5.41 20z\"/>\n",
              "  </svg>\n",
              "      </button>\n",
              "      \n",
              "  <style>\n",
              "    .colab-df-container {\n",
              "      display:flex;\n",
              "      flex-wrap:wrap;\n",
              "      gap: 12px;\n",
              "    }\n",
              "\n",
              "    .colab-df-convert {\n",
              "      background-color: #E8F0FE;\n",
              "      border: none;\n",
              "      border-radius: 50%;\n",
              "      cursor: pointer;\n",
              "      display: none;\n",
              "      fill: #1967D2;\n",
              "      height: 32px;\n",
              "      padding: 0 0 0 0;\n",
              "      width: 32px;\n",
              "    }\n",
              "\n",
              "    .colab-df-convert:hover {\n",
              "      background-color: #E2EBFA;\n",
              "      box-shadow: 0px 1px 2px rgba(60, 64, 67, 0.3), 0px 1px 3px 1px rgba(60, 64, 67, 0.15);\n",
              "      fill: #174EA6;\n",
              "    }\n",
              "\n",
              "    [theme=dark] .colab-df-convert {\n",
              "      background-color: #3B4455;\n",
              "      fill: #D2E3FC;\n",
              "    }\n",
              "\n",
              "    [theme=dark] .colab-df-convert:hover {\n",
              "      background-color: #434B5C;\n",
              "      box-shadow: 0px 1px 3px 1px rgba(0, 0, 0, 0.15);\n",
              "      filter: drop-shadow(0px 1px 2px rgba(0, 0, 0, 0.3));\n",
              "      fill: #FFFFFF;\n",
              "    }\n",
              "  </style>\n",
              "\n",
              "      <script>\n",
              "        const buttonEl =\n",
              "          document.querySelector('#df-bf37c8ec-2cb2-4608-a2c9-5810f721ce44 button.colab-df-convert');\n",
              "        buttonEl.style.display =\n",
              "          google.colab.kernel.accessAllowed ? 'block' : 'none';\n",
              "\n",
              "        async function convertToInteractive(key) {\n",
              "          const element = document.querySelector('#df-bf37c8ec-2cb2-4608-a2c9-5810f721ce44');\n",
              "          const dataTable =\n",
              "            await google.colab.kernel.invokeFunction('convertToInteractive',\n",
              "                                                     [key], {});\n",
              "          if (!dataTable) return;\n",
              "\n",
              "          const docLinkHtml = 'Like what you see? Visit the ' +\n",
              "            '<a target=\"_blank\" href=https://colab.research.google.com/notebooks/data_table.ipynb>data table notebook</a>'\n",
              "            + ' to learn more about interactive tables.';\n",
              "          element.innerHTML = '';\n",
              "          dataTable['output_type'] = 'display_data';\n",
              "          await google.colab.output.renderOutput(dataTable, element);\n",
              "          const docLink = document.createElement('div');\n",
              "          docLink.innerHTML = docLinkHtml;\n",
              "          element.appendChild(docLink);\n",
              "        }\n",
              "      </script>\n",
              "    </div>\n",
              "  </div>\n",
              "  "
            ]
          },
          "metadata": {},
          "execution_count": 3
        }
      ]
    },
    {
      "cell_type": "code",
      "source": [
        "data=data.iloc[2:]\n",
        "data.head()"
      ],
      "metadata": {
        "colab": {
          "base_uri": "https://localhost:8080/",
          "height": 206
        },
        "id": "xbR1bRSuQoNv",
        "outputId": "a28d7988-73a8-4d37-adbe-5a7548fdf977"
      },
      "execution_count": null,
      "outputs": [
        {
          "output_type": "execute_result",
          "data": {
            "text/plain": [
              "     Year  Traffic fatalities(people)  Highway mileage(10,000 km)  \\\n",
              "2  1981.0                     22499.0                       89.75   \n",
              "3  1982.0                     22164.0                       90.70   \n",
              "4  1983.0                     23944.0                       91.51   \n",
              "5  1984.0                     25251.0                       92.67   \n",
              "6  1985.0                     40906.0                       94.24   \n",
              "\n",
              "   Vehicle number(10000)  Population size(10000)  \n",
              "2                 234.73                100072.0  \n",
              "3                 259.77                101645.0  \n",
              "4                 283.88                103008.0  \n",
              "5                 587.37                104357.0  \n",
              "6                 655.65                105851.0  "
            ],
            "text/html": [
              "\n",
              "  <div id=\"df-324fcfa0-609f-42b2-88ec-27311c268d6d\">\n",
              "    <div class=\"colab-df-container\">\n",
              "      <div>\n",
              "<style scoped>\n",
              "    .dataframe tbody tr th:only-of-type {\n",
              "        vertical-align: middle;\n",
              "    }\n",
              "\n",
              "    .dataframe tbody tr th {\n",
              "        vertical-align: top;\n",
              "    }\n",
              "\n",
              "    .dataframe thead th {\n",
              "        text-align: right;\n",
              "    }\n",
              "</style>\n",
              "<table border=\"1\" class=\"dataframe\">\n",
              "  <thead>\n",
              "    <tr style=\"text-align: right;\">\n",
              "      <th></th>\n",
              "      <th>Year</th>\n",
              "      <th>Traffic fatalities(people)</th>\n",
              "      <th>Highway mileage(10,000 km)</th>\n",
              "      <th>Vehicle number(10000)</th>\n",
              "      <th>Population size(10000)</th>\n",
              "    </tr>\n",
              "  </thead>\n",
              "  <tbody>\n",
              "    <tr>\n",
              "      <th>2</th>\n",
              "      <td>1981.0</td>\n",
              "      <td>22499.0</td>\n",
              "      <td>89.75</td>\n",
              "      <td>234.73</td>\n",
              "      <td>100072.0</td>\n",
              "    </tr>\n",
              "    <tr>\n",
              "      <th>3</th>\n",
              "      <td>1982.0</td>\n",
              "      <td>22164.0</td>\n",
              "      <td>90.70</td>\n",
              "      <td>259.77</td>\n",
              "      <td>101645.0</td>\n",
              "    </tr>\n",
              "    <tr>\n",
              "      <th>4</th>\n",
              "      <td>1983.0</td>\n",
              "      <td>23944.0</td>\n",
              "      <td>91.51</td>\n",
              "      <td>283.88</td>\n",
              "      <td>103008.0</td>\n",
              "    </tr>\n",
              "    <tr>\n",
              "      <th>5</th>\n",
              "      <td>1984.0</td>\n",
              "      <td>25251.0</td>\n",
              "      <td>92.67</td>\n",
              "      <td>587.37</td>\n",
              "      <td>104357.0</td>\n",
              "    </tr>\n",
              "    <tr>\n",
              "      <th>6</th>\n",
              "      <td>1985.0</td>\n",
              "      <td>40906.0</td>\n",
              "      <td>94.24</td>\n",
              "      <td>655.65</td>\n",
              "      <td>105851.0</td>\n",
              "    </tr>\n",
              "  </tbody>\n",
              "</table>\n",
              "</div>\n",
              "      <button class=\"colab-df-convert\" onclick=\"convertToInteractive('df-324fcfa0-609f-42b2-88ec-27311c268d6d')\"\n",
              "              title=\"Convert this dataframe to an interactive table.\"\n",
              "              style=\"display:none;\">\n",
              "        \n",
              "  <svg xmlns=\"http://www.w3.org/2000/svg\" height=\"24px\"viewBox=\"0 0 24 24\"\n",
              "       width=\"24px\">\n",
              "    <path d=\"M0 0h24v24H0V0z\" fill=\"none\"/>\n",
              "    <path d=\"M18.56 5.44l.94 2.06.94-2.06 2.06-.94-2.06-.94-.94-2.06-.94 2.06-2.06.94zm-11 1L8.5 8.5l.94-2.06 2.06-.94-2.06-.94L8.5 2.5l-.94 2.06-2.06.94zm10 10l.94 2.06.94-2.06 2.06-.94-2.06-.94-.94-2.06-.94 2.06-2.06.94z\"/><path d=\"M17.41 7.96l-1.37-1.37c-.4-.4-.92-.59-1.43-.59-.52 0-1.04.2-1.43.59L10.3 9.45l-7.72 7.72c-.78.78-.78 2.05 0 2.83L4 21.41c.39.39.9.59 1.41.59.51 0 1.02-.2 1.41-.59l7.78-7.78 2.81-2.81c.8-.78.8-2.07 0-2.86zM5.41 20L4 18.59l7.72-7.72 1.47 1.35L5.41 20z\"/>\n",
              "  </svg>\n",
              "      </button>\n",
              "      \n",
              "  <style>\n",
              "    .colab-df-container {\n",
              "      display:flex;\n",
              "      flex-wrap:wrap;\n",
              "      gap: 12px;\n",
              "    }\n",
              "\n",
              "    .colab-df-convert {\n",
              "      background-color: #E8F0FE;\n",
              "      border: none;\n",
              "      border-radius: 50%;\n",
              "      cursor: pointer;\n",
              "      display: none;\n",
              "      fill: #1967D2;\n",
              "      height: 32px;\n",
              "      padding: 0 0 0 0;\n",
              "      width: 32px;\n",
              "    }\n",
              "\n",
              "    .colab-df-convert:hover {\n",
              "      background-color: #E2EBFA;\n",
              "      box-shadow: 0px 1px 2px rgba(60, 64, 67, 0.3), 0px 1px 3px 1px rgba(60, 64, 67, 0.15);\n",
              "      fill: #174EA6;\n",
              "    }\n",
              "\n",
              "    [theme=dark] .colab-df-convert {\n",
              "      background-color: #3B4455;\n",
              "      fill: #D2E3FC;\n",
              "    }\n",
              "\n",
              "    [theme=dark] .colab-df-convert:hover {\n",
              "      background-color: #434B5C;\n",
              "      box-shadow: 0px 1px 3px 1px rgba(0, 0, 0, 0.15);\n",
              "      filter: drop-shadow(0px 1px 2px rgba(0, 0, 0, 0.3));\n",
              "      fill: #FFFFFF;\n",
              "    }\n",
              "  </style>\n",
              "\n",
              "      <script>\n",
              "        const buttonEl =\n",
              "          document.querySelector('#df-324fcfa0-609f-42b2-88ec-27311c268d6d button.colab-df-convert');\n",
              "        buttonEl.style.display =\n",
              "          google.colab.kernel.accessAllowed ? 'block' : 'none';\n",
              "\n",
              "        async function convertToInteractive(key) {\n",
              "          const element = document.querySelector('#df-324fcfa0-609f-42b2-88ec-27311c268d6d');\n",
              "          const dataTable =\n",
              "            await google.colab.kernel.invokeFunction('convertToInteractive',\n",
              "                                                     [key], {});\n",
              "          if (!dataTable) return;\n",
              "\n",
              "          const docLinkHtml = 'Like what you see? Visit the ' +\n",
              "            '<a target=\"_blank\" href=https://colab.research.google.com/notebooks/data_table.ipynb>data table notebook</a>'\n",
              "            + ' to learn more about interactive tables.';\n",
              "          element.innerHTML = '';\n",
              "          dataTable['output_type'] = 'display_data';\n",
              "          await google.colab.output.renderOutput(dataTable, element);\n",
              "          const docLink = document.createElement('div');\n",
              "          docLink.innerHTML = docLinkHtml;\n",
              "          element.appendChild(docLink);\n",
              "        }\n",
              "      </script>\n",
              "    </div>\n",
              "  </div>\n",
              "  "
            ]
          },
          "metadata": {},
          "execution_count": 4
        }
      ]
    },
    {
      "cell_type": "code",
      "source": [
        "data.set_index(['Year'],inplace=True)\n",
        "data.head()"
      ],
      "metadata": {
        "colab": {
          "base_uri": "https://localhost:8080/",
          "height": 238
        },
        "id": "DKMaLtjzWeCv",
        "outputId": "3182400f-fa42-44ae-851f-d0c5a2008098"
      },
      "execution_count": null,
      "outputs": [
        {
          "output_type": "execute_result",
          "data": {
            "text/plain": [
              "        Traffic fatalities(people)  Highway mileage(10,000 km)  \\\n",
              "Year                                                             \n",
              "1981.0                     22499.0                       89.75   \n",
              "1982.0                     22164.0                       90.70   \n",
              "1983.0                     23944.0                       91.51   \n",
              "1984.0                     25251.0                       92.67   \n",
              "1985.0                     40906.0                       94.24   \n",
              "\n",
              "        Vehicle number(10000)  Population size(10000)  \n",
              "Year                                                   \n",
              "1981.0                 234.73                100072.0  \n",
              "1982.0                 259.77                101645.0  \n",
              "1983.0                 283.88                103008.0  \n",
              "1984.0                 587.37                104357.0  \n",
              "1985.0                 655.65                105851.0  "
            ],
            "text/html": [
              "\n",
              "  <div id=\"df-69aa05d7-dcdf-4079-afce-de64ff5e4e4d\">\n",
              "    <div class=\"colab-df-container\">\n",
              "      <div>\n",
              "<style scoped>\n",
              "    .dataframe tbody tr th:only-of-type {\n",
              "        vertical-align: middle;\n",
              "    }\n",
              "\n",
              "    .dataframe tbody tr th {\n",
              "        vertical-align: top;\n",
              "    }\n",
              "\n",
              "    .dataframe thead th {\n",
              "        text-align: right;\n",
              "    }\n",
              "</style>\n",
              "<table border=\"1\" class=\"dataframe\">\n",
              "  <thead>\n",
              "    <tr style=\"text-align: right;\">\n",
              "      <th></th>\n",
              "      <th>Traffic fatalities(people)</th>\n",
              "      <th>Highway mileage(10,000 km)</th>\n",
              "      <th>Vehicle number(10000)</th>\n",
              "      <th>Population size(10000)</th>\n",
              "    </tr>\n",
              "    <tr>\n",
              "      <th>Year</th>\n",
              "      <th></th>\n",
              "      <th></th>\n",
              "      <th></th>\n",
              "      <th></th>\n",
              "    </tr>\n",
              "  </thead>\n",
              "  <tbody>\n",
              "    <tr>\n",
              "      <th>1981.0</th>\n",
              "      <td>22499.0</td>\n",
              "      <td>89.75</td>\n",
              "      <td>234.73</td>\n",
              "      <td>100072.0</td>\n",
              "    </tr>\n",
              "    <tr>\n",
              "      <th>1982.0</th>\n",
              "      <td>22164.0</td>\n",
              "      <td>90.70</td>\n",
              "      <td>259.77</td>\n",
              "      <td>101645.0</td>\n",
              "    </tr>\n",
              "    <tr>\n",
              "      <th>1983.0</th>\n",
              "      <td>23944.0</td>\n",
              "      <td>91.51</td>\n",
              "      <td>283.88</td>\n",
              "      <td>103008.0</td>\n",
              "    </tr>\n",
              "    <tr>\n",
              "      <th>1984.0</th>\n",
              "      <td>25251.0</td>\n",
              "      <td>92.67</td>\n",
              "      <td>587.37</td>\n",
              "      <td>104357.0</td>\n",
              "    </tr>\n",
              "    <tr>\n",
              "      <th>1985.0</th>\n",
              "      <td>40906.0</td>\n",
              "      <td>94.24</td>\n",
              "      <td>655.65</td>\n",
              "      <td>105851.0</td>\n",
              "    </tr>\n",
              "  </tbody>\n",
              "</table>\n",
              "</div>\n",
              "      <button class=\"colab-df-convert\" onclick=\"convertToInteractive('df-69aa05d7-dcdf-4079-afce-de64ff5e4e4d')\"\n",
              "              title=\"Convert this dataframe to an interactive table.\"\n",
              "              style=\"display:none;\">\n",
              "        \n",
              "  <svg xmlns=\"http://www.w3.org/2000/svg\" height=\"24px\"viewBox=\"0 0 24 24\"\n",
              "       width=\"24px\">\n",
              "    <path d=\"M0 0h24v24H0V0z\" fill=\"none\"/>\n",
              "    <path d=\"M18.56 5.44l.94 2.06.94-2.06 2.06-.94-2.06-.94-.94-2.06-.94 2.06-2.06.94zm-11 1L8.5 8.5l.94-2.06 2.06-.94-2.06-.94L8.5 2.5l-.94 2.06-2.06.94zm10 10l.94 2.06.94-2.06 2.06-.94-2.06-.94-.94-2.06-.94 2.06-2.06.94z\"/><path d=\"M17.41 7.96l-1.37-1.37c-.4-.4-.92-.59-1.43-.59-.52 0-1.04.2-1.43.59L10.3 9.45l-7.72 7.72c-.78.78-.78 2.05 0 2.83L4 21.41c.39.39.9.59 1.41.59.51 0 1.02-.2 1.41-.59l7.78-7.78 2.81-2.81c.8-.78.8-2.07 0-2.86zM5.41 20L4 18.59l7.72-7.72 1.47 1.35L5.41 20z\"/>\n",
              "  </svg>\n",
              "      </button>\n",
              "      \n",
              "  <style>\n",
              "    .colab-df-container {\n",
              "      display:flex;\n",
              "      flex-wrap:wrap;\n",
              "      gap: 12px;\n",
              "    }\n",
              "\n",
              "    .colab-df-convert {\n",
              "      background-color: #E8F0FE;\n",
              "      border: none;\n",
              "      border-radius: 50%;\n",
              "      cursor: pointer;\n",
              "      display: none;\n",
              "      fill: #1967D2;\n",
              "      height: 32px;\n",
              "      padding: 0 0 0 0;\n",
              "      width: 32px;\n",
              "    }\n",
              "\n",
              "    .colab-df-convert:hover {\n",
              "      background-color: #E2EBFA;\n",
              "      box-shadow: 0px 1px 2px rgba(60, 64, 67, 0.3), 0px 1px 3px 1px rgba(60, 64, 67, 0.15);\n",
              "      fill: #174EA6;\n",
              "    }\n",
              "\n",
              "    [theme=dark] .colab-df-convert {\n",
              "      background-color: #3B4455;\n",
              "      fill: #D2E3FC;\n",
              "    }\n",
              "\n",
              "    [theme=dark] .colab-df-convert:hover {\n",
              "      background-color: #434B5C;\n",
              "      box-shadow: 0px 1px 3px 1px rgba(0, 0, 0, 0.15);\n",
              "      filter: drop-shadow(0px 1px 2px rgba(0, 0, 0, 0.3));\n",
              "      fill: #FFFFFF;\n",
              "    }\n",
              "  </style>\n",
              "\n",
              "      <script>\n",
              "        const buttonEl =\n",
              "          document.querySelector('#df-69aa05d7-dcdf-4079-afce-de64ff5e4e4d button.colab-df-convert');\n",
              "        buttonEl.style.display =\n",
              "          google.colab.kernel.accessAllowed ? 'block' : 'none';\n",
              "\n",
              "        async function convertToInteractive(key) {\n",
              "          const element = document.querySelector('#df-69aa05d7-dcdf-4079-afce-de64ff5e4e4d');\n",
              "          const dataTable =\n",
              "            await google.colab.kernel.invokeFunction('convertToInteractive',\n",
              "                                                     [key], {});\n",
              "          if (!dataTable) return;\n",
              "\n",
              "          const docLinkHtml = 'Like what you see? Visit the ' +\n",
              "            '<a target=\"_blank\" href=https://colab.research.google.com/notebooks/data_table.ipynb>data table notebook</a>'\n",
              "            + ' to learn more about interactive tables.';\n",
              "          element.innerHTML = '';\n",
              "          dataTable['output_type'] = 'display_data';\n",
              "          await google.colab.output.renderOutput(dataTable, element);\n",
              "          const docLink = document.createElement('div');\n",
              "          docLink.innerHTML = docLinkHtml;\n",
              "          element.appendChild(docLink);\n",
              "        }\n",
              "      </script>\n",
              "    </div>\n",
              "  </div>\n",
              "  "
            ]
          },
          "metadata": {},
          "execution_count": 5
        }
      ]
    },
    {
      "cell_type": "code",
      "source": [
        "y=data['Traffic fatalities(people)']\n",
        "y.head(6)"
      ],
      "metadata": {
        "id": "cb2DFPioXckA",
        "colab": {
          "base_uri": "https://localhost:8080/"
        },
        "outputId": "dced30de-a4e8-40cf-834a-097d479e84f3"
      },
      "execution_count": null,
      "outputs": [
        {
          "output_type": "execute_result",
          "data": {
            "text/plain": [
              "Year\n",
              "1981.0    22499.0\n",
              "1982.0    22164.0\n",
              "1983.0    23944.0\n",
              "1984.0    25251.0\n",
              "1985.0    40906.0\n",
              "1986.0    50063.0\n",
              "Name: Traffic fatalities(people), dtype: float64"
            ]
          },
          "metadata": {},
          "execution_count": 6
        }
      ]
    },
    {
      "cell_type": "code",
      "source": [
        "# data.drop(['Traffic fatalities(people)'],axis=1,inplace=True)\n",
        "# data.head()"
      ],
      "metadata": {
        "id": "B8z0pGAS0RW2"
      },
      "execution_count": null,
      "outputs": []
    },
    {
      "cell_type": "markdown",
      "source": [
        "## **FEATURE SCALING**"
      ],
      "metadata": {
        "id": "wSMNIew_04Y1"
      }
    },
    {
      "cell_type": "code",
      "source": [
        "from sklearn import preprocessing\n",
        "scaler = preprocessing.MinMaxScaler()\n",
        "min_max_df = scaler.fit_transform(data)\n",
        "min_max_df = pd.DataFrame(min_max_df, columns =['Traffic fatalities(people)','Highway mileage(10,000 km)',\n",
        "                                              'Vehicle number(10000)','Population size(10000)'])\n",
        "min_max_df.head()"
      ],
      "metadata": {
        "colab": {
          "base_uri": "https://localhost:8080/",
          "height": 206
        },
        "id": "OBhClosu09zE",
        "outputId": "cf99637a-3cc9-4e4a-a7b4-2f05e14f8da4"
      },
      "execution_count": null,
      "outputs": [
        {
          "output_type": "execute_result",
          "data": {
            "text/plain": [
              "   Traffic fatalities(people)  Highway mileage(10,000 km)  \\\n",
              "0                    0.003841                    0.000000   \n",
              "1                    0.000000                    0.002844   \n",
              "2                    0.020409                    0.005269   \n",
              "3                    0.035394                    0.008743   \n",
              "4                    0.214889                    0.013443   \n",
              "\n",
              "   Vehicle number(10000)  Population size(10000)  \n",
              "0               0.000000                0.000000  \n",
              "1               0.001049                0.044521  \n",
              "2               0.002059                0.083097  \n",
              "3               0.014775                0.121278  \n",
              "4               0.017636                0.163563  "
            ],
            "text/html": [
              "\n",
              "  <div id=\"df-c19776eb-f844-41b4-ad78-2eb0f022418e\">\n",
              "    <div class=\"colab-df-container\">\n",
              "      <div>\n",
              "<style scoped>\n",
              "    .dataframe tbody tr th:only-of-type {\n",
              "        vertical-align: middle;\n",
              "    }\n",
              "\n",
              "    .dataframe tbody tr th {\n",
              "        vertical-align: top;\n",
              "    }\n",
              "\n",
              "    .dataframe thead th {\n",
              "        text-align: right;\n",
              "    }\n",
              "</style>\n",
              "<table border=\"1\" class=\"dataframe\">\n",
              "  <thead>\n",
              "    <tr style=\"text-align: right;\">\n",
              "      <th></th>\n",
              "      <th>Traffic fatalities(people)</th>\n",
              "      <th>Highway mileage(10,000 km)</th>\n",
              "      <th>Vehicle number(10000)</th>\n",
              "      <th>Population size(10000)</th>\n",
              "    </tr>\n",
              "  </thead>\n",
              "  <tbody>\n",
              "    <tr>\n",
              "      <th>0</th>\n",
              "      <td>0.003841</td>\n",
              "      <td>0.000000</td>\n",
              "      <td>0.000000</td>\n",
              "      <td>0.000000</td>\n",
              "    </tr>\n",
              "    <tr>\n",
              "      <th>1</th>\n",
              "      <td>0.000000</td>\n",
              "      <td>0.002844</td>\n",
              "      <td>0.001049</td>\n",
              "      <td>0.044521</td>\n",
              "    </tr>\n",
              "    <tr>\n",
              "      <th>2</th>\n",
              "      <td>0.020409</td>\n",
              "      <td>0.005269</td>\n",
              "      <td>0.002059</td>\n",
              "      <td>0.083097</td>\n",
              "    </tr>\n",
              "    <tr>\n",
              "      <th>3</th>\n",
              "      <td>0.035394</td>\n",
              "      <td>0.008743</td>\n",
              "      <td>0.014775</td>\n",
              "      <td>0.121278</td>\n",
              "    </tr>\n",
              "    <tr>\n",
              "      <th>4</th>\n",
              "      <td>0.214889</td>\n",
              "      <td>0.013443</td>\n",
              "      <td>0.017636</td>\n",
              "      <td>0.163563</td>\n",
              "    </tr>\n",
              "  </tbody>\n",
              "</table>\n",
              "</div>\n",
              "      <button class=\"colab-df-convert\" onclick=\"convertToInteractive('df-c19776eb-f844-41b4-ad78-2eb0f022418e')\"\n",
              "              title=\"Convert this dataframe to an interactive table.\"\n",
              "              style=\"display:none;\">\n",
              "        \n",
              "  <svg xmlns=\"http://www.w3.org/2000/svg\" height=\"24px\"viewBox=\"0 0 24 24\"\n",
              "       width=\"24px\">\n",
              "    <path d=\"M0 0h24v24H0V0z\" fill=\"none\"/>\n",
              "    <path d=\"M18.56 5.44l.94 2.06.94-2.06 2.06-.94-2.06-.94-.94-2.06-.94 2.06-2.06.94zm-11 1L8.5 8.5l.94-2.06 2.06-.94-2.06-.94L8.5 2.5l-.94 2.06-2.06.94zm10 10l.94 2.06.94-2.06 2.06-.94-2.06-.94-.94-2.06-.94 2.06-2.06.94z\"/><path d=\"M17.41 7.96l-1.37-1.37c-.4-.4-.92-.59-1.43-.59-.52 0-1.04.2-1.43.59L10.3 9.45l-7.72 7.72c-.78.78-.78 2.05 0 2.83L4 21.41c.39.39.9.59 1.41.59.51 0 1.02-.2 1.41-.59l7.78-7.78 2.81-2.81c.8-.78.8-2.07 0-2.86zM5.41 20L4 18.59l7.72-7.72 1.47 1.35L5.41 20z\"/>\n",
              "  </svg>\n",
              "      </button>\n",
              "      \n",
              "  <style>\n",
              "    .colab-df-container {\n",
              "      display:flex;\n",
              "      flex-wrap:wrap;\n",
              "      gap: 12px;\n",
              "    }\n",
              "\n",
              "    .colab-df-convert {\n",
              "      background-color: #E8F0FE;\n",
              "      border: none;\n",
              "      border-radius: 50%;\n",
              "      cursor: pointer;\n",
              "      display: none;\n",
              "      fill: #1967D2;\n",
              "      height: 32px;\n",
              "      padding: 0 0 0 0;\n",
              "      width: 32px;\n",
              "    }\n",
              "\n",
              "    .colab-df-convert:hover {\n",
              "      background-color: #E2EBFA;\n",
              "      box-shadow: 0px 1px 2px rgba(60, 64, 67, 0.3), 0px 1px 3px 1px rgba(60, 64, 67, 0.15);\n",
              "      fill: #174EA6;\n",
              "    }\n",
              "\n",
              "    [theme=dark] .colab-df-convert {\n",
              "      background-color: #3B4455;\n",
              "      fill: #D2E3FC;\n",
              "    }\n",
              "\n",
              "    [theme=dark] .colab-df-convert:hover {\n",
              "      background-color: #434B5C;\n",
              "      box-shadow: 0px 1px 3px 1px rgba(0, 0, 0, 0.15);\n",
              "      filter: drop-shadow(0px 1px 2px rgba(0, 0, 0, 0.3));\n",
              "      fill: #FFFFFF;\n",
              "    }\n",
              "  </style>\n",
              "\n",
              "      <script>\n",
              "        const buttonEl =\n",
              "          document.querySelector('#df-c19776eb-f844-41b4-ad78-2eb0f022418e button.colab-df-convert');\n",
              "        buttonEl.style.display =\n",
              "          google.colab.kernel.accessAllowed ? 'block' : 'none';\n",
              "\n",
              "        async function convertToInteractive(key) {\n",
              "          const element = document.querySelector('#df-c19776eb-f844-41b4-ad78-2eb0f022418e');\n",
              "          const dataTable =\n",
              "            await google.colab.kernel.invokeFunction('convertToInteractive',\n",
              "                                                     [key], {});\n",
              "          if (!dataTable) return;\n",
              "\n",
              "          const docLinkHtml = 'Like what you see? Visit the ' +\n",
              "            '<a target=\"_blank\" href=https://colab.research.google.com/notebooks/data_table.ipynb>data table notebook</a>'\n",
              "            + ' to learn more about interactive tables.';\n",
              "          element.innerHTML = '';\n",
              "          dataTable['output_type'] = 'display_data';\n",
              "          await google.colab.output.renderOutput(dataTable, element);\n",
              "          const docLink = document.createElement('div');\n",
              "          docLink.innerHTML = docLinkHtml;\n",
              "          element.appendChild(docLink);\n",
              "        }\n",
              "      </script>\n",
              "    </div>\n",
              "  </div>\n",
              "  "
            ]
          },
          "metadata": {},
          "execution_count": 8
        }
      ]
    },
    {
      "cell_type": "code",
      "source": [
        "y=min_max_df['Traffic fatalities(people)']\n",
        "y.head()"
      ],
      "metadata": {
        "colab": {
          "base_uri": "https://localhost:8080/"
        },
        "id": "eeUAcvzJ13dp",
        "outputId": "6facfba1-c26c-4308-e88d-18347065d528"
      },
      "execution_count": null,
      "outputs": [
        {
          "output_type": "execute_result",
          "data": {
            "text/plain": [
              "0    0.003841\n",
              "1    0.000000\n",
              "2    0.020409\n",
              "3    0.035394\n",
              "4    0.214889\n",
              "Name: Traffic fatalities(people), dtype: float64"
            ]
          },
          "metadata": {},
          "execution_count": 9
        }
      ]
    },
    {
      "cell_type": "code",
      "source": [
        "min_max_df.drop(['Traffic fatalities(people)'],axis=1,inplace=True)\n",
        "min_max_df.head()"
      ],
      "metadata": {
        "colab": {
          "base_uri": "https://localhost:8080/",
          "height": 206
        },
        "id": "6cXm1hz217iy",
        "outputId": "dd558090-719a-46f5-a347-48c8832ebf2c"
      },
      "execution_count": null,
      "outputs": [
        {
          "output_type": "execute_result",
          "data": {
            "text/plain": [
              "   Highway mileage(10,000 km)  Vehicle number(10000)  Population size(10000)\n",
              "0                    0.000000               0.000000                0.000000\n",
              "1                    0.002844               0.001049                0.044521\n",
              "2                    0.005269               0.002059                0.083097\n",
              "3                    0.008743               0.014775                0.121278\n",
              "4                    0.013443               0.017636                0.163563"
            ],
            "text/html": [
              "\n",
              "  <div id=\"df-ddcfd395-7b2c-4bf5-a923-ccef7cd4889d\">\n",
              "    <div class=\"colab-df-container\">\n",
              "      <div>\n",
              "<style scoped>\n",
              "    .dataframe tbody tr th:only-of-type {\n",
              "        vertical-align: middle;\n",
              "    }\n",
              "\n",
              "    .dataframe tbody tr th {\n",
              "        vertical-align: top;\n",
              "    }\n",
              "\n",
              "    .dataframe thead th {\n",
              "        text-align: right;\n",
              "    }\n",
              "</style>\n",
              "<table border=\"1\" class=\"dataframe\">\n",
              "  <thead>\n",
              "    <tr style=\"text-align: right;\">\n",
              "      <th></th>\n",
              "      <th>Highway mileage(10,000 km)</th>\n",
              "      <th>Vehicle number(10000)</th>\n",
              "      <th>Population size(10000)</th>\n",
              "    </tr>\n",
              "  </thead>\n",
              "  <tbody>\n",
              "    <tr>\n",
              "      <th>0</th>\n",
              "      <td>0.000000</td>\n",
              "      <td>0.000000</td>\n",
              "      <td>0.000000</td>\n",
              "    </tr>\n",
              "    <tr>\n",
              "      <th>1</th>\n",
              "      <td>0.002844</td>\n",
              "      <td>0.001049</td>\n",
              "      <td>0.044521</td>\n",
              "    </tr>\n",
              "    <tr>\n",
              "      <th>2</th>\n",
              "      <td>0.005269</td>\n",
              "      <td>0.002059</td>\n",
              "      <td>0.083097</td>\n",
              "    </tr>\n",
              "    <tr>\n",
              "      <th>3</th>\n",
              "      <td>0.008743</td>\n",
              "      <td>0.014775</td>\n",
              "      <td>0.121278</td>\n",
              "    </tr>\n",
              "    <tr>\n",
              "      <th>4</th>\n",
              "      <td>0.013443</td>\n",
              "      <td>0.017636</td>\n",
              "      <td>0.163563</td>\n",
              "    </tr>\n",
              "  </tbody>\n",
              "</table>\n",
              "</div>\n",
              "      <button class=\"colab-df-convert\" onclick=\"convertToInteractive('df-ddcfd395-7b2c-4bf5-a923-ccef7cd4889d')\"\n",
              "              title=\"Convert this dataframe to an interactive table.\"\n",
              "              style=\"display:none;\">\n",
              "        \n",
              "  <svg xmlns=\"http://www.w3.org/2000/svg\" height=\"24px\"viewBox=\"0 0 24 24\"\n",
              "       width=\"24px\">\n",
              "    <path d=\"M0 0h24v24H0V0z\" fill=\"none\"/>\n",
              "    <path d=\"M18.56 5.44l.94 2.06.94-2.06 2.06-.94-2.06-.94-.94-2.06-.94 2.06-2.06.94zm-11 1L8.5 8.5l.94-2.06 2.06-.94-2.06-.94L8.5 2.5l-.94 2.06-2.06.94zm10 10l.94 2.06.94-2.06 2.06-.94-2.06-.94-.94-2.06-.94 2.06-2.06.94z\"/><path d=\"M17.41 7.96l-1.37-1.37c-.4-.4-.92-.59-1.43-.59-.52 0-1.04.2-1.43.59L10.3 9.45l-7.72 7.72c-.78.78-.78 2.05 0 2.83L4 21.41c.39.39.9.59 1.41.59.51 0 1.02-.2 1.41-.59l7.78-7.78 2.81-2.81c.8-.78.8-2.07 0-2.86zM5.41 20L4 18.59l7.72-7.72 1.47 1.35L5.41 20z\"/>\n",
              "  </svg>\n",
              "      </button>\n",
              "      \n",
              "  <style>\n",
              "    .colab-df-container {\n",
              "      display:flex;\n",
              "      flex-wrap:wrap;\n",
              "      gap: 12px;\n",
              "    }\n",
              "\n",
              "    .colab-df-convert {\n",
              "      background-color: #E8F0FE;\n",
              "      border: none;\n",
              "      border-radius: 50%;\n",
              "      cursor: pointer;\n",
              "      display: none;\n",
              "      fill: #1967D2;\n",
              "      height: 32px;\n",
              "      padding: 0 0 0 0;\n",
              "      width: 32px;\n",
              "    }\n",
              "\n",
              "    .colab-df-convert:hover {\n",
              "      background-color: #E2EBFA;\n",
              "      box-shadow: 0px 1px 2px rgba(60, 64, 67, 0.3), 0px 1px 3px 1px rgba(60, 64, 67, 0.15);\n",
              "      fill: #174EA6;\n",
              "    }\n",
              "\n",
              "    [theme=dark] .colab-df-convert {\n",
              "      background-color: #3B4455;\n",
              "      fill: #D2E3FC;\n",
              "    }\n",
              "\n",
              "    [theme=dark] .colab-df-convert:hover {\n",
              "      background-color: #434B5C;\n",
              "      box-shadow: 0px 1px 3px 1px rgba(0, 0, 0, 0.15);\n",
              "      filter: drop-shadow(0px 1px 2px rgba(0, 0, 0, 0.3));\n",
              "      fill: #FFFFFF;\n",
              "    }\n",
              "  </style>\n",
              "\n",
              "      <script>\n",
              "        const buttonEl =\n",
              "          document.querySelector('#df-ddcfd395-7b2c-4bf5-a923-ccef7cd4889d button.colab-df-convert');\n",
              "        buttonEl.style.display =\n",
              "          google.colab.kernel.accessAllowed ? 'block' : 'none';\n",
              "\n",
              "        async function convertToInteractive(key) {\n",
              "          const element = document.querySelector('#df-ddcfd395-7b2c-4bf5-a923-ccef7cd4889d');\n",
              "          const dataTable =\n",
              "            await google.colab.kernel.invokeFunction('convertToInteractive',\n",
              "                                                     [key], {});\n",
              "          if (!dataTable) return;\n",
              "\n",
              "          const docLinkHtml = 'Like what you see? Visit the ' +\n",
              "            '<a target=\"_blank\" href=https://colab.research.google.com/notebooks/data_table.ipynb>data table notebook</a>'\n",
              "            + ' to learn more about interactive tables.';\n",
              "          element.innerHTML = '';\n",
              "          dataTable['output_type'] = 'display_data';\n",
              "          await google.colab.output.renderOutput(dataTable, element);\n",
              "          const docLink = document.createElement('div');\n",
              "          docLink.innerHTML = docLinkHtml;\n",
              "          element.appendChild(docLink);\n",
              "        }\n",
              "      </script>\n",
              "    </div>\n",
              "  </div>\n",
              "  "
            ]
          },
          "metadata": {},
          "execution_count": 10
        }
      ]
    },
    {
      "cell_type": "markdown",
      "source": [
        "# **TRAIN TEST SPLIT**"
      ],
      "metadata": {
        "id": "7W0FsFW97e2z"
      }
    },
    {
      "cell_type": "code",
      "source": [
        "x_train=min_max_df[:26]\n",
        "x_test=min_max_df[26:]\n",
        "y_train=y[0:26]\n",
        "y_test=y[26:]"
      ],
      "metadata": {
        "id": "mn_adESR5-zW"
      },
      "execution_count": null,
      "outputs": []
    },
    {
      "cell_type": "markdown",
      "source": [
        "## **SUPPORT VECTOR MACHINE ALGORITHM USING RADIAL BASIS FUNCTION KERNEL**"
      ],
      "metadata": {
        "id": "YjKDIdkCxDlh"
      }
    },
    {
      "cell_type": "code",
      "source": [
        "from sklearn.svm import SVR\n",
        "from sklearn.model_selection import GridSearchCV\n",
        "# Parameters for tuning\n",
        "K=10\n",
        "parameters = [{'kernel': ['rbf'], 'gamma': [1e-4, 1e-3, 0.01, 0.1, 0.2, 0.5, 0.6, 0.9],'C': [1, 10, 100, 1000, 10000]}]\n",
        "print(\"Tuning hyper-parameters\")\n",
        "svr = GridSearchCV(SVR(epsilon = 0.01), parameters, cv = K)\n",
        "svr.fit(x_train, y_train)\n",
        "print(svr.best_params_)"
      ],
      "metadata": {
        "colab": {
          "base_uri": "https://localhost:8080/"
        },
        "id": "iZqCMcuK5gqp",
        "outputId": "717ce2c6-3042-4941-cdea-937b6fd682f6"
      },
      "execution_count": null,
      "outputs": [
        {
          "output_type": "stream",
          "name": "stdout",
          "text": [
            "Tuning hyper-parameters\n",
            "{'C': 100, 'gamma': 0.9, 'kernel': 'rbf'}\n"
          ]
        }
      ]
    },
    {
      "cell_type": "markdown",
      "source": [
        "# **BUILDING THE MODEL WITH BEST PARAMETERS**"
      ],
      "metadata": {
        "id": "jR9RHg9lABhw"
      }
    },
    {
      "cell_type": "code",
      "source": [
        "svr_1=SVR(kernel='rbf',C=100,gamma=0.9)\n",
        "svr_1.fit(x_train,y_train)"
      ],
      "metadata": {
        "colab": {
          "base_uri": "https://localhost:8080/"
        },
        "id": "Zj3SEwGlAITl",
        "outputId": "e051e48c-6979-4373-ff37-893e678f877f"
      },
      "execution_count": null,
      "outputs": [
        {
          "output_type": "execute_result",
          "data": {
            "text/plain": [
              "SVR(C=100, gamma=0.9)"
            ]
          },
          "metadata": {},
          "execution_count": 13
        }
      ]
    },
    {
      "cell_type": "markdown",
      "source": [
        "# **PREDICTED VALUES**"
      ],
      "metadata": {
        "id": "VgMpBb6ldvh0"
      }
    },
    {
      "cell_type": "code",
      "source": [
        "y_pred = svr_1.predict(x_test)\n",
        "y_pred"
      ],
      "metadata": {
        "colab": {
          "base_uri": "https://localhost:8080/"
        },
        "id": "LXR7_H7J57Ys",
        "outputId": "e7de5844-fe33-4f3d-9fad-e9a1cde0162a"
      },
      "execution_count": null,
      "outputs": [
        {
          "output_type": "execute_result",
          "data": {
            "text/plain": [
              "array([0.83922893, 0.803324  , 0.75863059, 0.70230594, 0.6566964 ,\n",
              "       0.60953907])"
            ]
          },
          "metadata": {},
          "execution_count": 14
        }
      ]
    },
    {
      "cell_type": "code",
      "source": [
        "y_test"
      ],
      "metadata": {
        "colab": {
          "base_uri": "https://localhost:8080/"
        },
        "id": "-KI3wWOF7q3o",
        "outputId": "6502fb43-4c2c-4ecc-8cf8-8137e085ef06"
      },
      "execution_count": null,
      "outputs": [
        {
          "output_type": "execute_result",
          "data": {
            "text/plain": [
              "26    0.682034\n",
              "27    0.588417\n",
              "28    0.522777\n",
              "29    0.493723\n",
              "30    0.461183\n",
              "31    0.433780\n",
              "Name: Traffic fatalities(people), dtype: float64"
            ]
          },
          "metadata": {},
          "execution_count": 15
        }
      ]
    },
    {
      "cell_type": "markdown",
      "source": [
        "# **ACCURACY METRICS FOR RBF KERNEL**"
      ],
      "metadata": {
        "id": "Q0EanwvExPWS"
      }
    },
    {
      "cell_type": "code",
      "source": [
        "from sklearn.metrics import mean_squared_error,mean_absolute_error\n",
        "from sklearn.metrics import mean_absolute_error\n",
        "print(\"Mean squared error:\",end='')\n",
        "print(mean_squared_error(y_test,y_pred))\n",
        "print(\"Root Mean squared error:\",end='')\n",
        "print(mean_squared_error(y_test,y_pred,squared=False))\n",
        "print(\"Mean absolute error:\",end='')\n",
        "print(mean_absolute_error(y_test,y_pred))"
      ],
      "metadata": {
        "colab": {
          "base_uri": "https://localhost:8080/"
        },
        "id": "Ew22MJ3erp8y",
        "outputId": "e92a5eb3-1907-48e5-db46-9ecb72d97043"
      },
      "execution_count": null,
      "outputs": [
        {
          "output_type": "stream",
          "name": "stdout",
          "text": [
            "Mean squared error:0.03985763441304053\n",
            "Root Mean squared error:0.19964376878089765\n",
            "Mean absolute error:0.19796847487989855\n"
          ]
        }
      ]
    },
    {
      "cell_type": "markdown",
      "source": [
        "# **RANDOM FOREST REGRESSOR**"
      ],
      "metadata": {
        "id": "amZ8Jth6X5pD"
      }
    },
    {
      "cell_type": "code",
      "source": [
        "n_estimators = [5,20,50,100,1000] # number of trees in the random forest\n",
        "max_features = ['auto', 'sqrt'] # number of features in consideration at every split\n",
        "max_depth = [int(x) for x in np.linspace(10, 120, num = 12)] # maximum number of levels allowed in each decision tree\n",
        "min_samples_split = [2, 6, 10,20] # minimum sample number to split a node\n",
        "min_samples_leaf = [1, 3, 4,10] # minimum sample number that can be stored in a leaf node\n",
        "bootstrap = [True, False] # method used to sample data points\n",
        "\n",
        "random_grid = {'n_estimators': n_estimators,\n",
        "\n",
        "'max_features': max_features,\n",
        "\n",
        "'max_depth': max_depth,\n",
        "\n",
        "'min_samples_split': min_samples_split,\n",
        "\n",
        "'min_samples_leaf': min_samples_leaf,\n",
        "\n",
        "'bootstrap': bootstrap}"
      ],
      "metadata": {
        "id": "tZIsMN9qYDkG"
      },
      "execution_count": null,
      "outputs": []
    },
    {
      "cell_type": "code",
      "source": [
        "## Importing Random Forest Classifier from the sklearn.ensemble\n",
        "from sklearn.ensemble import RandomForestRegressor\n",
        "rf = RandomForestRegressor()"
      ],
      "metadata": {
        "id": "9Ev9BOYxZrRY"
      },
      "execution_count": null,
      "outputs": []
    },
    {
      "cell_type": "code",
      "source": [
        "from sklearn.model_selection import RandomizedSearchCV\n",
        "rf_random = RandomizedSearchCV(estimator = rf,param_distributions = random_grid,\n",
        "               n_iter = 100, cv = 5, verbose=2, random_state=35, n_jobs = -1)"
      ],
      "metadata": {
        "id": "WJvRr_-PZw6m"
      },
      "execution_count": null,
      "outputs": []
    },
    {
      "cell_type": "code",
      "source": [
        "rf_random.fit(x_train, y_train)"
      ],
      "metadata": {
        "colab": {
          "base_uri": "https://localhost:8080/"
        },
        "id": "blTN1mrwZ5VB",
        "outputId": "e4651ae5-f060-4d46-9f5a-13ebb621449e"
      },
      "execution_count": null,
      "outputs": [
        {
          "output_type": "stream",
          "name": "stdout",
          "text": [
            "Fitting 5 folds for each of 100 candidates, totalling 500 fits\n"
          ]
        },
        {
          "output_type": "execute_result",
          "data": {
            "text/plain": [
              "RandomizedSearchCV(cv=5, estimator=RandomForestRegressor(), n_iter=100,\n",
              "                   n_jobs=-1,\n",
              "                   param_distributions={'bootstrap': [True, False],\n",
              "                                        'max_depth': [10, 20, 30, 40, 50, 60,\n",
              "                                                      70, 80, 90, 100, 110,\n",
              "                                                      120],\n",
              "                                        'max_features': ['auto', 'sqrt'],\n",
              "                                        'min_samples_leaf': [1, 3, 4, 10],\n",
              "                                        'min_samples_split': [2, 6, 10, 20],\n",
              "                                        'n_estimators': [5, 20, 50, 100, 1000]},\n",
              "                   random_state=35, verbose=2)"
            ]
          },
          "metadata": {},
          "execution_count": 20
        }
      ]
    },
    {
      "cell_type": "code",
      "source": [
        "RandomizedSearchCV(cv=5, estimator=RandomForestRegressor(), n_iter=100,\n",
        "                   n_jobs=-1,\n",
        "                   param_distributions={'bootstrap': [True, False],\n",
        "                                        'max_depth': [10, 20, 30, 40, 50, 60,\n",
        "                                                      70, 80, 90, 100, 110,\n",
        "                                                      120],\n",
        "                                        'max_features': ['auto', 'sqrt'],\n",
        "                                        'min_samples_leaf': [1, 3, 4,10],\n",
        "                                        'min_samples_split': [2, 6, 10,20],\n",
        "                                        'n_estimators': [5, 20, 50, 100,1000]},\n",
        "                   random_state=35, verbose=2)"
      ],
      "metadata": {
        "colab": {
          "base_uri": "https://localhost:8080/"
        },
        "id": "_vmGDSE7aA3X",
        "outputId": "b60f76ee-ea75-4c05-8257-c807db781e56"
      },
      "execution_count": null,
      "outputs": [
        {
          "output_type": "execute_result",
          "data": {
            "text/plain": [
              "RandomizedSearchCV(cv=5, estimator=RandomForestRegressor(), n_iter=100,\n",
              "                   n_jobs=-1,\n",
              "                   param_distributions={'bootstrap': [True, False],\n",
              "                                        'max_depth': [10, 20, 30, 40, 50, 60,\n",
              "                                                      70, 80, 90, 100, 110,\n",
              "                                                      120],\n",
              "                                        'max_features': ['auto', 'sqrt'],\n",
              "                                        'min_samples_leaf': [1, 3, 4, 10],\n",
              "                                        'min_samples_split': [2, 6, 10, 20],\n",
              "                                        'n_estimators': [5, 20, 50, 100, 1000]},\n",
              "                   random_state=35, verbose=2)"
            ]
          },
          "metadata": {},
          "execution_count": 21
        }
      ]
    },
    {
      "cell_type": "code",
      "source": [
        "print ('Random grid: ', random_grid, '\\n')\n",
        "# print the best parameters\n",
        "print ('Best Parameters: ', rf_random.best_params_, ' \\n')"
      ],
      "metadata": {
        "colab": {
          "base_uri": "https://localhost:8080/"
        },
        "id": "fN6SpcsQaViK",
        "outputId": "1014109d-20b5-4bc7-f615-d0f41ec777db"
      },
      "execution_count": null,
      "outputs": [
        {
          "output_type": "stream",
          "name": "stdout",
          "text": [
            "Random grid:  {'n_estimators': [5, 20, 50, 100, 1000], 'max_features': ['auto', 'sqrt'], 'max_depth': [10, 20, 30, 40, 50, 60, 70, 80, 90, 100, 110, 120], 'min_samples_split': [2, 6, 10, 20], 'min_samples_leaf': [1, 3, 4, 10], 'bootstrap': [True, False]} \n",
            "\n",
            "Best Parameters:  {'n_estimators': 50, 'min_samples_split': 6, 'min_samples_leaf': 1, 'max_features': 'auto', 'max_depth': 110, 'bootstrap': False}  \n",
            "\n"
          ]
        }
      ]
    },
    {
      "cell_type": "code",
      "source": [
        "#Model Training\n",
        "randmf = RandomForestRegressor(n_estimators = 50, min_samples_split = 6,\n",
        "                               min_samples_leaf= 1, max_features = 'auto',\n",
        "                               max_depth= 110, bootstrap=False) \n",
        "randmf.fit( x_train, y_train) "
      ],
      "metadata": {
        "colab": {
          "base_uri": "https://localhost:8080/"
        },
        "id": "KQkURVNlaa-3",
        "outputId": "d1ae2b54-0fd8-474c-cdf4-18b17cbb2069"
      },
      "execution_count": null,
      "outputs": [
        {
          "output_type": "execute_result",
          "data": {
            "text/plain": [
              "RandomForestRegressor(bootstrap=False, max_depth=110, min_samples_split=6,\n",
              "                      n_estimators=50)"
            ]
          },
          "metadata": {},
          "execution_count": 23
        }
      ]
    },
    {
      "cell_type": "code",
      "source": [
        "#predicted values\n",
        "y_random=randmf.predict(x_test)\n",
        "y_random"
      ],
      "metadata": {
        "colab": {
          "base_uri": "https://localhost:8080/"
        },
        "id": "zTpnzO7Xa3Mc",
        "outputId": "6eb21810-da72-4912-a3cd-eb626f769f84"
      },
      "execution_count": null,
      "outputs": [
        {
          "output_type": "execute_result",
          "data": {
            "text/plain": [
              "array([0.77153537, 0.77153537, 0.77153537, 0.77153537, 0.77153537,\n",
              "       0.77153537])"
            ]
          },
          "metadata": {},
          "execution_count": 24
        }
      ]
    },
    {
      "cell_type": "code",
      "source": [
        "y_pred_rf1 = pd.DataFrame( { \"actual\": y_test, \n",
        "\"predicted_prob\": randmf.predict( \n",
        "( x_test ) ) } ) \n",
        "y_pred_rf1"
      ],
      "metadata": {
        "colab": {
          "base_uri": "https://localhost:8080/",
          "height": 238
        },
        "id": "qrK5lcvhat_d",
        "outputId": "38c39e80-19be-4bdc-a910-eaaead909c62"
      },
      "execution_count": null,
      "outputs": [
        {
          "output_type": "execute_result",
          "data": {
            "text/plain": [
              "      actual  predicted_prob\n",
              "26  0.682034        0.771535\n",
              "27  0.588417        0.771535\n",
              "28  0.522777        0.771535\n",
              "29  0.493723        0.771535\n",
              "30  0.461183        0.771535\n",
              "31  0.433780        0.771535"
            ],
            "text/html": [
              "\n",
              "  <div id=\"df-4fa476ae-ad18-4be6-a990-b5762c1dbea3\">\n",
              "    <div class=\"colab-df-container\">\n",
              "      <div>\n",
              "<style scoped>\n",
              "    .dataframe tbody tr th:only-of-type {\n",
              "        vertical-align: middle;\n",
              "    }\n",
              "\n",
              "    .dataframe tbody tr th {\n",
              "        vertical-align: top;\n",
              "    }\n",
              "\n",
              "    .dataframe thead th {\n",
              "        text-align: right;\n",
              "    }\n",
              "</style>\n",
              "<table border=\"1\" class=\"dataframe\">\n",
              "  <thead>\n",
              "    <tr style=\"text-align: right;\">\n",
              "      <th></th>\n",
              "      <th>actual</th>\n",
              "      <th>predicted_prob</th>\n",
              "    </tr>\n",
              "  </thead>\n",
              "  <tbody>\n",
              "    <tr>\n",
              "      <th>26</th>\n",
              "      <td>0.682034</td>\n",
              "      <td>0.771535</td>\n",
              "    </tr>\n",
              "    <tr>\n",
              "      <th>27</th>\n",
              "      <td>0.588417</td>\n",
              "      <td>0.771535</td>\n",
              "    </tr>\n",
              "    <tr>\n",
              "      <th>28</th>\n",
              "      <td>0.522777</td>\n",
              "      <td>0.771535</td>\n",
              "    </tr>\n",
              "    <tr>\n",
              "      <th>29</th>\n",
              "      <td>0.493723</td>\n",
              "      <td>0.771535</td>\n",
              "    </tr>\n",
              "    <tr>\n",
              "      <th>30</th>\n",
              "      <td>0.461183</td>\n",
              "      <td>0.771535</td>\n",
              "    </tr>\n",
              "    <tr>\n",
              "      <th>31</th>\n",
              "      <td>0.433780</td>\n",
              "      <td>0.771535</td>\n",
              "    </tr>\n",
              "  </tbody>\n",
              "</table>\n",
              "</div>\n",
              "      <button class=\"colab-df-convert\" onclick=\"convertToInteractive('df-4fa476ae-ad18-4be6-a990-b5762c1dbea3')\"\n",
              "              title=\"Convert this dataframe to an interactive table.\"\n",
              "              style=\"display:none;\">\n",
              "        \n",
              "  <svg xmlns=\"http://www.w3.org/2000/svg\" height=\"24px\"viewBox=\"0 0 24 24\"\n",
              "       width=\"24px\">\n",
              "    <path d=\"M0 0h24v24H0V0z\" fill=\"none\"/>\n",
              "    <path d=\"M18.56 5.44l.94 2.06.94-2.06 2.06-.94-2.06-.94-.94-2.06-.94 2.06-2.06.94zm-11 1L8.5 8.5l.94-2.06 2.06-.94-2.06-.94L8.5 2.5l-.94 2.06-2.06.94zm10 10l.94 2.06.94-2.06 2.06-.94-2.06-.94-.94-2.06-.94 2.06-2.06.94z\"/><path d=\"M17.41 7.96l-1.37-1.37c-.4-.4-.92-.59-1.43-.59-.52 0-1.04.2-1.43.59L10.3 9.45l-7.72 7.72c-.78.78-.78 2.05 0 2.83L4 21.41c.39.39.9.59 1.41.59.51 0 1.02-.2 1.41-.59l7.78-7.78 2.81-2.81c.8-.78.8-2.07 0-2.86zM5.41 20L4 18.59l7.72-7.72 1.47 1.35L5.41 20z\"/>\n",
              "  </svg>\n",
              "      </button>\n",
              "      \n",
              "  <style>\n",
              "    .colab-df-container {\n",
              "      display:flex;\n",
              "      flex-wrap:wrap;\n",
              "      gap: 12px;\n",
              "    }\n",
              "\n",
              "    .colab-df-convert {\n",
              "      background-color: #E8F0FE;\n",
              "      border: none;\n",
              "      border-radius: 50%;\n",
              "      cursor: pointer;\n",
              "      display: none;\n",
              "      fill: #1967D2;\n",
              "      height: 32px;\n",
              "      padding: 0 0 0 0;\n",
              "      width: 32px;\n",
              "    }\n",
              "\n",
              "    .colab-df-convert:hover {\n",
              "      background-color: #E2EBFA;\n",
              "      box-shadow: 0px 1px 2px rgba(60, 64, 67, 0.3), 0px 1px 3px 1px rgba(60, 64, 67, 0.15);\n",
              "      fill: #174EA6;\n",
              "    }\n",
              "\n",
              "    [theme=dark] .colab-df-convert {\n",
              "      background-color: #3B4455;\n",
              "      fill: #D2E3FC;\n",
              "    }\n",
              "\n",
              "    [theme=dark] .colab-df-convert:hover {\n",
              "      background-color: #434B5C;\n",
              "      box-shadow: 0px 1px 3px 1px rgba(0, 0, 0, 0.15);\n",
              "      filter: drop-shadow(0px 1px 2px rgba(0, 0, 0, 0.3));\n",
              "      fill: #FFFFFF;\n",
              "    }\n",
              "  </style>\n",
              "\n",
              "      <script>\n",
              "        const buttonEl =\n",
              "          document.querySelector('#df-4fa476ae-ad18-4be6-a990-b5762c1dbea3 button.colab-df-convert');\n",
              "        buttonEl.style.display =\n",
              "          google.colab.kernel.accessAllowed ? 'block' : 'none';\n",
              "\n",
              "        async function convertToInteractive(key) {\n",
              "          const element = document.querySelector('#df-4fa476ae-ad18-4be6-a990-b5762c1dbea3');\n",
              "          const dataTable =\n",
              "            await google.colab.kernel.invokeFunction('convertToInteractive',\n",
              "                                                     [key], {});\n",
              "          if (!dataTable) return;\n",
              "\n",
              "          const docLinkHtml = 'Like what you see? Visit the ' +\n",
              "            '<a target=\"_blank\" href=https://colab.research.google.com/notebooks/data_table.ipynb>data table notebook</a>'\n",
              "            + ' to learn more about interactive tables.';\n",
              "          element.innerHTML = '';\n",
              "          dataTable['output_type'] = 'display_data';\n",
              "          await google.colab.output.renderOutput(dataTable, element);\n",
              "          const docLink = document.createElement('div');\n",
              "          docLink.innerHTML = docLinkHtml;\n",
              "          element.appendChild(docLink);\n",
              "        }\n",
              "      </script>\n",
              "    </div>\n",
              "  </div>\n",
              "  "
            ]
          },
          "metadata": {},
          "execution_count": 25
        }
      ]
    },
    {
      "cell_type": "markdown",
      "source": [
        "# **ACCURACY METRICS FOR RANDOM FOREST REGRESSOR**"
      ],
      "metadata": {
        "id": "Q8p0VS88U8J7"
      }
    },
    {
      "cell_type": "code",
      "source": [
        "from sklearn.metrics import mean_squared_error,mean_absolute_error\n",
        "from sklearn.metrics import mean_absolute_error\n",
        "print(\"Mean squared error:\",end='')\n",
        "print(mean_squared_error(y_test,y_random))\n",
        "print(\"Root Mean squared error:\",end='')\n",
        "print(mean_squared_error(y_test,y_random,squared=False))\n",
        "print(\"Mean absolute error:\",end='')\n",
        "print(mean_absolute_error(y_test,y_random))"
      ],
      "metadata": {
        "colab": {
          "base_uri": "https://localhost:8080/"
        },
        "id": "hb6hdIOHbLC-",
        "outputId": "9ffa4c5a-e016-40ad-8836-791993b04e9d"
      },
      "execution_count": null,
      "outputs": [
        {
          "output_type": "stream",
          "name": "stdout",
          "text": [
            "Mean squared error:0.0651667847889912\n",
            "Root Mean squared error:0.2552778580076838\n",
            "Mean absolute error:0.2412163530810123\n"
          ]
        }
      ]
    },
    {
      "cell_type": "markdown",
      "source": [
        "# **The main steps of the PSO algorithm for optimization are:**\n",
        "1. Initialization of the initial swarm population.\n",
        "2. Assign their inital positions in the search space randomly.\n",
        "3. Assign their initial velocities randomly\n",
        "4. Calculate the local best (the best solution for that individual in the swarm)\n",
        "5. Calculate the global best (the best solution of the entire swarm)\n",
        "6. Update the position for each step (final_pos = inital_pos + vel)\n",
        "7. Update the velocity using the formula (used in the program)\n",
        "8. Update the local best and the global best\n",
        "9. Repeat from step 6 until iterations end or objective is fulfilled.\n",
        "\n",
        "\n",
        "\n",
        "\n",
        "\n"
      ],
      "metadata": {
        "id": "JlzvfFnIz12d"
      }
    },
    {
      "cell_type": "code",
      "source": [
        "# def solve(C,gamma):\n",
        "#   for i in C:\n",
        "#     for j in gamma:\n",
        "#       svr_2=SVR(C=i,gamma=j)\n",
        "#       svr_2.fit(x_train,y_train)\n",
        "#       y_pred_2=svr_2.predict(x_test)\n",
        "#   return y_pred_2"
      ],
      "metadata": {
        "id": "bkBF_--vjVhp"
      },
      "execution_count": null,
      "outputs": []
    },
    {
      "cell_type": "code",
      "source": [
        "# c1 ,c2 = 1.5,1.7\n",
        "# w = 0.8\n",
        "# # One iteration\n",
        "# r = np.random.rand(2)\n",
        "# V = w * V + c1*r[0]*(pbest - X) + c2*r[1]*(gbest.reshape(-1,1)-X)\n",
        "# X = X + V\n",
        "# obj = solve(X[0], X[1])\n",
        "# # pbest[:, (pbest_obj >= obj)] = X[:, (pbest_obj >= obj)]\n",
        "# pbest_obj = np.array([pbest_obj, obj]).max(axis=0)\n",
        "# gbest = pbest[:, pbest_obj.argmin()]\n",
        "# gbest_obj = pbest_obj.min()"
      ],
      "metadata": {
        "id": "sRMLYtNvmWNl"
      },
      "execution_count": null,
      "outputs": []
    },
    {
      "cell_type": "code",
      "source": [
        "# import numpy as np\n",
        "# import matplotlib.pyplot as plt\n",
        "# import sys\n",
        "# best_C=[]\n",
        "# def solve(C):\n",
        "#   for i in C:\n",
        "#     svr_2=SVR(C=i,gamma=0.9)\n",
        "#     svr_2.fit(x_train,y_train)\n",
        "#     y_pred_2=svr_2.predict(x_test)\n",
        "#     error=sys.float_info.max\n",
        "#     if(mean_squared_error(y_pred_2,y_test)<error):\n",
        "#       error=mean_squared_error(y_pred_2,y_test)\n",
        "#       best_C.append(i)\n",
        "#   return best_C[len(best_C)-1]\n",
        "    \n",
        " \n",
        "# # Hyper-parameter of the algorithm\n",
        "# c1,c2 = 1.5,1.7\n",
        "# w = 0.8\n",
        " \n",
        "# # Create particles\n",
        "# n_particles = 20\n",
        "# np.random.seed(100)\n",
        "# X = np.random.rand(1, n_particles) * 5\n",
        "# V = np.random.randn(1, n_particles) * 0.1\n",
        " \n",
        "# # Initialize data\n",
        "# pbest = X\n",
        "# pbest_obj = solve(X[0])\n",
        "# gbest = pbest[:, pbest_obj.argmin()]\n",
        "# gbest_obj = pbest_obj.min()\n",
        " \n",
        "# def update():\n",
        "#     \"Function to do one iteration of particle swarm optimization\"\n",
        "#     global V, X, pbest, pbest_obj, gbest, gbest_obj\n",
        "#     # Update params\n",
        "#     r1, r2 = np.random.rand(2)\n",
        "#     V = w * V + c1*r1*(pbest - X) + c2*r2*(gbest.reshape(-1,1)-X)\n",
        "#     X = X + V\n",
        "#     obj = solve(X[0])\n",
        "#     # pbest[:, (pbest_obj >= obj)] = X[:, (pbest_obj >= obj)]\n",
        "#     pbest_obj = np.array([pbest_obj, obj]).min(axis=0)\n",
        "#     gbest = pbest[:, pbest_obj.argmin()]\n",
        "#     gbest_obj = pbest_obj.min()\n",
        " \n",
        "# print(\"PSO found best solution at f({})={}\".format(gbest, gbest_obj))\n",
        "# # print(\"Global optimal at f({})={}\".format([x_min,y_min], f(x_min,y_min)))"
      ],
      "metadata": {
        "id": "oO3Vu1vemu81"
      },
      "execution_count": null,
      "outputs": []
    },
    {
      "cell_type": "markdown",
      "source": [
        "# **SVM+PSO**"
      ],
      "metadata": {
        "id": "a4z9tXH4wmpy"
      }
    },
    {
      "cell_type": "code",
      "source": [
        "from __future__ import division\n",
        "import random\n",
        "import math,sys\n",
        "def func1(x):\n",
        "   error=sys.float_info.max\n",
        "   for i in x:\n",
        "     svr_2=SVR(C=i)\n",
        "     svr_2.fit(x_train,y_train)\n",
        "     y_pred_2=svr_2.predict(x_test)\n",
        "     error=min(error,mean_squared_error(y_pred_2,y_test))\n",
        "   return error\n",
        "\n",
        "\n",
        "class Particle:\n",
        "    def __init__(self,x0):\n",
        "        self.position_i=[]          # particle position\n",
        "        self.velocity_i=[]          # particle velocity\n",
        "        self.pos_best_i=[]          # best position individual\n",
        "        self.err_best_i=-1          # best error individual\n",
        "        self.err_i=-1               # error individual\n",
        "\n",
        "        for i in range(0,num_dimensions):\n",
        "            self.velocity_i.append(random.uniform(-1,1))\n",
        "            self.position_i.append(x0[i])\n",
        "\n",
        "    # evaluate current fitness\n",
        "    def evaluate(self,costFunc):\n",
        "        self.err_i=costFunc(self.position_i)\n",
        "\n",
        "        # check to see if the current position is an individual best\n",
        "        if self.err_i < self.err_best_i or self.err_best_i==-1:\n",
        "            self.pos_best_i=self.position_i\n",
        "            self.err_best_i=self.err_i\n",
        "\n",
        "    # update new particle velocity\n",
        "    def update_velocity(self,pos_best_g):\n",
        "        w=0.5# constant inertia weight (how much to weigh the previous velocity)\n",
        "        c1=1.5# cognative constant\n",
        "        c2=1.7# social constant\n",
        "\n",
        "        for i in range(0,num_dimensions):\n",
        "            r1=random.random()\n",
        "            r2=random.random()\n",
        "\n",
        "            vel_cognitive=c1*r1*(self.pos_best_i[i]-self.position_i[i])\n",
        "            vel_social=c2*r2*(pos_best_g[i]-self.position_i[i])\n",
        "            self.velocity_i[i]=w*self.velocity_i[i]+vel_cognitive+vel_social\n",
        "  # update the particle position based off new velocity updates\n",
        "    def update_position(self,bounds):\n",
        "        for i in range(0,num_dimensions):\n",
        "            self.position_i[i]=self.position_i[i]+self.velocity_i[i]\n",
        "\n",
        "            # adjust maximum position if necessary\n",
        "            if self.position_i[i]>bounds[i][1]:\n",
        "                self.position_i[i]=bounds[i][1]\n",
        "\n",
        "            # adjust minimum position if neseccary\n",
        "            if self.position_i[i] < bounds[i][0]:\n",
        "                self.position_i[i]=bounds[i][0]\n",
        "class PSO():\n",
        "    def __init__(self,costFunc,x0,bounds,num_particles,maxiter):\n",
        "        global num_dimensions\n",
        "\n",
        "        num_dimensions=len(x0)\n",
        "        err_best_g=-1                   # best error for group\n",
        "        pos_best_g=[]                   # best position for group\n",
        "\n",
        "        # establish the swarm\n",
        "        swarm=[]\n",
        "        for i in range(0,num_particles):\n",
        "            swarm.append(Particle(x0))\n",
        "\n",
        "        # begin optimization loop\n",
        "        i=0\n",
        "        while i < maxiter:\n",
        "            #print i,err_best_g\n",
        "            # cycle through particles in swarm and evaluate fitness\n",
        "            for j in range(0,num_particles):\n",
        "                swarm[j].evaluate(costFunc)\n",
        "\n",
        "                # determine if current particle is the best (globally)\n",
        "                if swarm[j].err_i < err_best_g or err_best_g == -1:\n",
        "                    pos_best_g=list(swarm[j].position_i)\n",
        "                    err_best_g=float(swarm[j].err_i)\n",
        "\n",
        "            # cycle through swarm and update velocities and position\n",
        "            for j in range(0,num_particles):\n",
        "                swarm[j].update_velocity(pos_best_g)\n",
        "                swarm[j].update_position(bounds)\n",
        "            i+=1\n",
        "\n",
        "        # print final results\n",
        "        print ('FINAL:')\n",
        "        print(pos_best_g)\n",
        "        print(err_best_g)\n",
        "\n",
        "if __name__ == \"__PSO__\":\n",
        "    main()\n",
        "  \n",
        "initial=[5,5]               # initial starting location [x1,x2...]\n",
        "bounds=[(-10,10),(-10,10)]  # input bounds [(x1_min,x1_max),(x2_min,x2_max)...]\n",
        "PSO(func1,initial,bounds,num_particles=20,maxiter=200)"
      ],
      "metadata": {
        "colab": {
          "base_uri": "https://localhost:8080/"
        },
        "id": "Cd0rEvx88FOc",
        "outputId": "22cdc48b-d1dc-4bf0-f6af-582b6cfba76f"
      },
      "execution_count": null,
      "outputs": [
        {
          "output_type": "stream",
          "name": "stdout",
          "text": [
            "FINAL:\n",
            "[5, 5]\n",
            "0.011150321568496067\n"
          ]
        },
        {
          "output_type": "execute_result",
          "data": {
            "text/plain": [
              "<__main__.PSO at 0x7f707ba58510>"
            ]
          },
          "metadata": {},
          "execution_count": 30
        }
      ]
    },
    {
      "cell_type": "markdown",
      "source": [
        "# **MSE SVM+PSO**"
      ],
      "metadata": {
        "id": "6XUbhADiwr86"
      }
    },
    {
      "cell_type": "code",
      "source": [
        "svr_pso=SVR(kernel='rbf',C=5)\n",
        "svr_pso.fit(x_train,y_train)\n",
        "y_pred_pso = svr_pso.predict(x_test)\n",
        "y_pred_pso"
      ],
      "metadata": {
        "colab": {
          "base_uri": "https://localhost:8080/"
        },
        "id": "DFujL1iRK-0a",
        "outputId": "b7aa4fce-ca7d-4a5b-aa87-7969f372a155"
      },
      "execution_count": null,
      "outputs": [
        {
          "output_type": "execute_result",
          "data": {
            "text/plain": [
              "array([0.70946678, 0.67828916, 0.64288488, 0.60628206, 0.58141234,\n",
              "       0.56231694])"
            ]
          },
          "metadata": {},
          "execution_count": 31
        }
      ]
    },
    {
      "cell_type": "code",
      "source": [
        "print(\"Mean squared error:\",end='')\n",
        "print(mean_squared_error(y_test,y_pred_pso))"
      ],
      "metadata": {
        "colab": {
          "base_uri": "https://localhost:8080/"
        },
        "id": "S2XpZmoQSxX4",
        "outputId": "cb8b119c-5951-40f0-fd31-ecb0e8a93350"
      },
      "execution_count": null,
      "outputs": [
        {
          "output_type": "stream",
          "name": "stdout",
          "text": [
            "Mean squared error:0.011150321568496067\n"
          ]
        }
      ]
    },
    {
      "cell_type": "markdown",
      "source": [
        "# **RANDOM FOREST+PSO**"
      ],
      "metadata": {
        "id": "d2gLLIPLw23s"
      }
    },
    {
      "cell_type": "code",
      "source": [
        "from __future__ import division\n",
        "import random\n",
        "import math,sys\n",
        "def func2(x):\n",
        "   error=sys.float_info.max\n",
        "   for i in x:\n",
        "     random_2=RandomForestRegressor(min_samples_split=i)\n",
        "     random_2.fit(x_train,y_train)\n",
        "     y_pred_random=random_2.predict(x_test)\n",
        "     error=min(error,mean_squared_error(y_pred_random,y_test))\n",
        "   return error\n",
        "\n",
        "\n",
        "class Particle:\n",
        "    def __init__(self,x0):\n",
        "        self.position_i=[]          # particle position\n",
        "        self.velocity_i=[]          # particle velocity\n",
        "        self.pos_best_i=[]          # best position individual\n",
        "        self.err_best_i=-1          # best error individual\n",
        "        self.err_i=-1               # error individual\n",
        "\n",
        "        for i in range(0,num_dimensions):\n",
        "            self.velocity_i.append(random.uniform(-1,1))\n",
        "            self.position_i.append(x0[i])\n",
        "\n",
        "    # evaluate current fitness\n",
        "    def evaluate(self,costFunc):\n",
        "        self.err_i=costFunc(self.position_i)\n",
        "\n",
        "        # check to see if the current position is an individual best\n",
        "        if self.err_i < self.err_best_i or self.err_best_i==-1:\n",
        "            self.pos_best_i=self.position_i\n",
        "            self.err_best_i=self.err_i\n",
        "\n",
        "    # update new particle velocity\n",
        "    def update_velocity(self,pos_best_g):\n",
        "        w=0.5       # constant inertia weight (how much to weigh the previous velocity)\n",
        "        c1=1.5        # cognative constant\n",
        "        c2=1.7        # social constant\n",
        "\n",
        "        for i in range(0,num_dimensions):\n",
        "            r1=random.random()\n",
        "            r2=random.random()\n",
        "\n",
        "            vel_cognitive=c1*r1*(self.pos_best_i[i]-self.position_i[i])\n",
        "            vel_social=c2*r2*(pos_best_g[i]-self.position_i[i])\n",
        "            self.velocity_i[i]=w*self.velocity_i[i]+vel_cognitive+vel_social\n",
        "  # update the particle position based off new velocity updates\n",
        "    def update_position(self,bounds):\n",
        "        for i in range(0,num_dimensions):\n",
        "            self.position_i[i]=self.position_i[i]+self.velocity_i[i]\n",
        "\n",
        "            # adjust maximum position if necessary\n",
        "            if self.position_i[i]>bounds[i][1]:\n",
        "                self.position_i[i]=bounds[i][1]\n",
        "\n",
        "            # adjust minimum position if neseccary\n",
        "            if self.position_i[i] < bounds[i][0]:\n",
        "                self.position_i[i]=bounds[i][0]\n",
        "class PSO():\n",
        "    def __init__(self,costFunc,x0,bounds,num_particles,maxiter):\n",
        "        global num_dimensions\n",
        "\n",
        "        num_dimensions=len(x0)\n",
        "        err_best_g=-1                   # best error for group\n",
        "        pos_best_g=[]                   # best position for group\n",
        "\n",
        "        # establish the swarm\n",
        "        swarm=[]\n",
        "        for i in range(0,num_particles):\n",
        "            swarm.append(Particle(x0))\n",
        "\n",
        "        # begin optimization loop\n",
        "        i=0\n",
        "        while i < maxiter:\n",
        "            #print i,err_best_g\n",
        "            # cycle through particles in swarm and evaluate fitness\n",
        "            for j in range(0,num_particles):\n",
        "                swarm[j].evaluate(costFunc)\n",
        "\n",
        "                # determine if current particle is the best (globally)\n",
        "                if swarm[j].err_i < err_best_g or err_best_g == -1:\n",
        "                    pos_best_g=list(swarm[j].position_i)\n",
        "                    err_best_g=float(swarm[j].err_i)\n",
        "\n",
        "            # cycle through swarm and update velocities and position\n",
        "            for j in range(0,num_particles):\n",
        "                swarm[j].update_velocity(pos_best_g)\n",
        "                swarm[j].update_position(bounds)\n",
        "            i+=1\n",
        "\n",
        "        # print final results\n",
        "        print ('FINAL:')\n",
        "        print(pos_best_g)\n",
        "        print(err_best_g)\n",
        "\n",
        "if __name__ == \"__PSO__\":\n",
        "    main()\n",
        "  \n",
        "initial=[5,5]               # initial starting location [x1,x2...]\n",
        "bounds=[(-10,10),(-10,10)]  # input bounds [(x1_min,x1_max),(x2_min,x2_max)...]\n",
        "PSO(func1,initial,bounds,num_particles=20,maxiter=200)"
      ],
      "metadata": {
        "colab": {
          "base_uri": "https://localhost:8080/"
        },
        "id": "OaGsr2vBcpv_",
        "outputId": "2d71c8c9-3673-40f8-f4eb-757cd37eff32"
      },
      "execution_count": null,
      "outputs": [
        {
          "output_type": "stream",
          "name": "stdout",
          "text": [
            "FINAL:\n",
            "[5, 5]\n",
            "0.011150321568496067\n"
          ]
        },
        {
          "output_type": "execute_result",
          "data": {
            "text/plain": [
              "<__main__.PSO at 0x7f707ba435d0>"
            ]
          },
          "metadata": {},
          "execution_count": 33
        }
      ]
    },
    {
      "cell_type": "markdown",
      "source": [
        "# **MSE RANDOM FOREST+PSO**"
      ],
      "metadata": {
        "id": "roflj5NMw9Nh"
      }
    },
    {
      "cell_type": "code",
      "source": [
        "random_pso_1=RandomForestRegressor(bootstrap=False, max_depth=4, min_samples_split=5,\n",
        "                      n_estimators=4)\n",
        "random_pso_1.fit(x_train,y_train)\n",
        "y_random_pso_1 = random_pso_1.predict(x_test)\n",
        "y_random_pso_1"
      ],
      "metadata": {
        "colab": {
          "base_uri": "https://localhost:8080/"
        },
        "id": "M-tvcZii3itU",
        "outputId": "f54bda58-97c1-4332-e87f-1bbba8841905"
      },
      "execution_count": null,
      "outputs": [
        {
          "output_type": "execute_result",
          "data": {
            "text/plain": [
              "array([0.77153537, 0.77153537, 0.77153537, 0.77153537, 0.77153537,\n",
              "       0.77153537])"
            ]
          },
          "metadata": {},
          "execution_count": 34
        }
      ]
    },
    {
      "cell_type": "code",
      "source": [
        "print(\"Mean squared error:\",end='')\n",
        "print(mean_squared_error(y_test,y_random_pso_1))"
      ],
      "metadata": {
        "colab": {
          "base_uri": "https://localhost:8080/"
        },
        "id": "xbiLNrLl4E11",
        "outputId": "bdb37fc2-4531-4666-ccf8-e682993eb62e"
      },
      "execution_count": null,
      "outputs": [
        {
          "output_type": "stream",
          "name": "stdout",
          "text": [
            "Mean squared error:0.0651667847889913\n"
          ]
        }
      ]
    },
    {
      "cell_type": "code",
      "source": [],
      "metadata": {
        "id": "g9ICt8hN4OgS"
      },
      "execution_count": null,
      "outputs": []
    }
  ]
}